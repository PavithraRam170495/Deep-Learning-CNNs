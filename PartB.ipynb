{
  "nbformat": 4,
  "nbformat_minor": 0,
  "metadata": {
    "colab": {
      "name": "PartB.ipynb",
      "provenance": [],
      "collapsed_sections": []
    },
    "kernelspec": {
      "name": "python3",
      "display_name": "Python 3"
    },
    "accelerator": "GPU"
  },
  "cells": [
    {
      "cell_type": "code",
      "metadata": {
        "id": "3hInNerxEw97",
        "colab_type": "code",
        "outputId": "0961d459-3b0a-459f-ec2f-45363d03b0df",
        "colab": {
          "base_uri": "https://localhost:8080/",
          "height": 52
        }
      },
      "source": [
        "#set the tesorflow version to 2 and import packages\n",
        "%tensorflow_version 2.x\n",
        "import tensorflow as tf\n",
        "from tensorflow import keras\n",
        "from keras.utils import np_utils\n",
        "import matplotlib.pyplot as plt\n",
        "from sklearn.ensemble import RandomForestClassifier\n",
        "from sklearn.linear_model import LogisticRegression\n",
        "from sklearn import svm\n",
        "from sklearn import metrics\n",
        "print(tf.__version__)"
      ],
      "execution_count": 0,
      "outputs": [
        {
          "output_type": "stream",
          "text": [
            "Using TensorFlow backend.\n"
          ],
          "name": "stderr"
        },
        {
          "output_type": "stream",
          "text": [
            "2.2.0-rc4\n"
          ],
          "name": "stdout"
        }
      ]
    },
    {
      "cell_type": "code",
      "metadata": {
        "id": "4AP-o7oZE2qA",
        "colab_type": "code",
        "outputId": "f288fa74-130b-4480-d868-0e63b6662ba5",
        "colab": {
          "base_uri": "https://localhost:8080/",
          "height": 124
        }
      },
      "source": [
        "from google.colab import drive\n",
        "drive.mount('/content/gdrive')"
      ],
      "execution_count": 0,
      "outputs": [
        {
          "output_type": "stream",
          "text": [
            "Go to this URL in a browser: https://accounts.google.com/o/oauth2/auth?client_id=947318989803-6bn6qk8qdgf4n4g3pfee6491hc0brc4i.apps.googleusercontent.com&redirect_uri=urn%3aietf%3awg%3aoauth%3a2.0%3aoob&response_type=code&scope=email%20https%3a%2f%2fwww.googleapis.com%2fauth%2fdocs.test%20https%3a%2f%2fwww.googleapis.com%2fauth%2fdrive%20https%3a%2f%2fwww.googleapis.com%2fauth%2fdrive.photos.readonly%20https%3a%2f%2fwww.googleapis.com%2fauth%2fpeopleapi.readonly\n",
            "\n",
            "Enter your authorization code:\n",
            "··········\n",
            "Mounted at /content/gdrive\n"
          ],
          "name": "stdout"
        }
      ]
    },
    {
      "cell_type": "code",
      "metadata": {
        "id": "3H2mnJ7tE_j7",
        "colab_type": "code",
        "outputId": "7fc16b91-f8e5-4833-84f4-4fbdfc252524",
        "colab": {
          "base_uri": "https://localhost:8080/",
          "height": 52
        }
      },
      "source": [
        "!unzip \"/content/gdrive/My Drive/data.h5.zip\" -d \"./\""
      ],
      "execution_count": 0,
      "outputs": [
        {
          "output_type": "stream",
          "text": [
            "Archive:  /content/gdrive/My Drive/data.h5.zip\n",
            "  inflating: ./data1.h5              \n"
          ],
          "name": "stdout"
        }
      ]
    },
    {
      "cell_type": "code",
      "metadata": {
        "id": "6M2aPy6zFFaz",
        "colab_type": "code",
        "outputId": "6bdd2271-d493-48bb-a957-7f01a9f703ef",
        "colab": {
          "base_uri": "https://localhost:8080/",
          "height": 34
        }
      },
      "source": [
        "!ls"
      ],
      "execution_count": 0,
      "outputs": [
        {
          "output_type": "stream",
          "text": [
            "data1.h5  gdrive  sample_data\n"
          ],
          "name": "stdout"
        }
      ]
    },
    {
      "cell_type": "code",
      "metadata": {
        "id": "BNqY1fBAFHK9",
        "colab_type": "code",
        "outputId": "1fa836bb-7f00-4388-a4c8-0d0d0b0c76b3",
        "colab": {
          "base_uri": "https://localhost:8080/",
          "height": 52
        }
      },
      "source": [
        "import numpy as np\n",
        "import h5py\n",
        "def loadDataH5():\n",
        "  with h5py.File('data1.h5','r') as hf:\n",
        "    trainX = np.array(hf.get('trainX'))\n",
        "    trainY = np.array(hf.get('trainY'))\n",
        "    valX = np.array(hf.get('valX'))\n",
        "    valY = np.array(hf.get('valY'))\n",
        "    print (trainX.shape,trainY.shape)\n",
        "    print (valX.shape,valY.shape)\n",
        "  return trainX, trainY, valX, valY\n",
        "trainX, trainY, testX, testY = loadDataH5()"
      ],
      "execution_count": 0,
      "outputs": [
        {
          "output_type": "stream",
          "text": [
            "(1020, 128, 128, 3) (1020,)\n",
            "(340, 128, 128, 3) (340,)\n"
          ],
          "name": "stdout"
        }
      ]
    },
    {
      "cell_type": "code",
      "metadata": {
        "id": "Zz0WFFQtFPaG",
        "colab_type": "code",
        "outputId": "997b1f21-b3ad-4608-8acd-05424ee6a83b",
        "colab": {
          "base_uri": "https://localhost:8080/",
          "height": 52
        }
      },
      "source": [
        "height = trainX.shape[1]\n",
        "width = trainX.shape[2]\n",
        "depth = trainX.shape[3]\n",
        "classes = np_utils.to_categorical(trainY).shape[1]\n",
        "print(classes)\n",
        "print(height, width,depth)\n",
        "inputShape = (height, width,depth)"
      ],
      "execution_count": 0,
      "outputs": [
        {
          "output_type": "stream",
          "text": [
            "17\n",
            "128 128 3\n"
          ],
          "name": "stdout"
        }
      ]
    },
    {
      "cell_type": "code",
      "metadata": {
        "id": "B7LVAZLXF9kq",
        "colab_type": "code",
        "outputId": "adb24252-3320-437d-fcce-f9751941236b",
        "colab": {
          "base_uri": "https://localhost:8080/",
          "height": 86
        }
      },
      "source": [
        "#VGG model + Random Forest Classifier\n",
        "vggModel = tf.keras.applications.VGG16(weights='imagenet', include_top=False, input_shape=inputShape)\n",
        "featuresTrain = vggModel.predict(trainX)\n",
        "\n",
        "featuresTrain = featuresTrain.reshape(featuresTrain.shape[0], -1)\n",
        "featuresVal = vggModel.predict(testX)\n",
        "featuresVal = featuresVal.reshape(featuresVal.shape[0], -1)\n",
        "\n",
        "model = RandomForestClassifier(200)\n",
        "model.fit(featuresTrain, trainY)\n",
        "train_results = model.predict(featuresTrain)\n",
        "results = model.predict(featuresVal)\n",
        "print (\"Train Accuracy :\",metrics.accuracy_score(train_results, trainY))\n",
        "print (\"Test Accuracy :\",metrics.accuracy_score(results, testY))"
      ],
      "execution_count": 0,
      "outputs": [
        {
          "output_type": "stream",
          "text": [
            "Downloading data from https://storage.googleapis.com/tensorflow/keras-applications/vgg16/vgg16_weights_tf_dim_ordering_tf_kernels_notop.h5\n",
            "58892288/58889256 [==============================] - 1s 0us/step\n",
            "Train Accuracy : 1.0\n",
            "Test Accuracy : 0.8205882352941176\n"
          ],
          "name": "stdout"
        }
      ]
    },
    {
      "cell_type": "code",
      "metadata": {
        "id": "MhF55kGmI6q4",
        "colab_type": "code",
        "outputId": "7c94aeb6-b6f2-4270-a496-ce05b2fcad71",
        "colab": {
          "base_uri": "https://localhost:8080/",
          "height": 191
        }
      },
      "source": [
        "#VGG model + Logistic Regression Classifier\n",
        "model = LogisticRegression()\n",
        "model.fit(featuresTrain, trainY)\n",
        "train_results = model.predict(featuresTrain)\n",
        "results = model.predict(featuresVal)\n",
        "print (\"Train Accuracy :\",metrics.accuracy_score(train_results, trainY))\n",
        "print (\"Test Accuracy :\",metrics.accuracy_score(results, testY))"
      ],
      "execution_count": 0,
      "outputs": [
        {
          "output_type": "stream",
          "text": [
            "Train Accuracy : 1.0\n",
            "Test Accuracy : 0.8794117647058823\n"
          ],
          "name": "stdout"
        },
        {
          "output_type": "stream",
          "text": [
            "/usr/local/lib/python3.6/dist-packages/sklearn/linear_model/_logistic.py:940: ConvergenceWarning: lbfgs failed to converge (status=1):\n",
            "STOP: TOTAL NO. of ITERATIONS REACHED LIMIT.\n",
            "\n",
            "Increase the number of iterations (max_iter) or scale the data as shown in:\n",
            "    https://scikit-learn.org/stable/modules/preprocessing.html\n",
            "Please also refer to the documentation for alternative solver options:\n",
            "    https://scikit-learn.org/stable/modules/linear_model.html#logistic-regression\n",
            "  extra_warning_msg=_LOGISTIC_SOLVER_CONVERGENCE_MSG)\n"
          ],
          "name": "stderr"
        }
      ]
    },
    {
      "cell_type": "code",
      "metadata": {
        "id": "DpTVwoInJTy6",
        "colab_type": "code",
        "outputId": "577d9788-24ae-417d-a6b3-d6cae0d3e599",
        "colab": {
          "base_uri": "https://localhost:8080/",
          "height": 52
        }
      },
      "source": [
        "#VGG model + SVC Classifier\n",
        "model = svm.SVC()\n",
        "model.fit(featuresTrain, trainY)\n",
        "train_results = model.predict(featuresTrain)\n",
        "results = model.predict(featuresVal)\n",
        "print (\"Train Accuracy :\",metrics.accuracy_score(train_results, trainY))\n",
        "print (\"Test Accuracy :\",metrics.accuracy_score(results, testY))"
      ],
      "execution_count": 0,
      "outputs": [
        {
          "output_type": "stream",
          "text": [
            "Train Accuracy : 0.8990196078431373\n",
            "Test Accuracy : 0.8441176470588235\n"
          ],
          "name": "stdout"
        }
      ]
    },
    {
      "cell_type": "code",
      "metadata": {
        "id": "5oXbCdfoJq5K",
        "colab_type": "code",
        "outputId": "8bead159-2e6b-4940-ae61-b23431ddd05b",
        "colab": {
          "base_uri": "https://localhost:8080/",
          "height": 86
        }
      },
      "source": [
        "#Inception model + RandomForest Classifier\n",
        "inceptionModel = tf.keras.applications.InceptionV3(weights='imagenet', include_top=False, input_shape=inputShape)\n",
        "featuresTrain = inceptionModel.predict(trainX)\n",
        "featuresTrain = featuresTrain.reshape(featuresTrain.shape[0], -1)\n",
        "\n",
        "\n",
        "featuresVal = inceptionModel.predict(testX)\n",
        "featuresVal = featuresVal.reshape(featuresVal.shape[0], -1)\n",
        "\n",
        "model = RandomForestClassifier(200)\n",
        "model.fit(featuresTrain, trainY)\n",
        "train_results = model.predict(featuresTrain)\n",
        "results = model.predict(featuresVal)\n",
        "print (\"Train Accuracy :\",metrics.accuracy_score(train_results, trainY))\n",
        "print (\"Test Accuracy :\",metrics.accuracy_score(results, testY))"
      ],
      "execution_count": 0,
      "outputs": [
        {
          "output_type": "stream",
          "text": [
            "Downloading data from https://storage.googleapis.com/tensorflow/keras-applications/inception_v3/inception_v3_weights_tf_dim_ordering_tf_kernels_notop.h5\n",
            "87916544/87910968 [==============================] - 1s 0us/step\n",
            "Train Accuracy : 1.0\n",
            "Test Accuracy : 0.8117647058823529\n"
          ],
          "name": "stdout"
        }
      ]
    },
    {
      "cell_type": "code",
      "metadata": {
        "id": "AgC_ofWEJ80K",
        "colab_type": "code",
        "outputId": "20317df6-5b1d-404e-87ac-dd59c4876307",
        "colab": {
          "base_uri": "https://localhost:8080/",
          "height": 191
        }
      },
      "source": [
        "#Inception model + Logistic Regression Classifier\n",
        "model = LogisticRegression()\n",
        "model.fit(featuresTrain, trainY)\n",
        "train_results = model.predict(featuresTrain)\n",
        "results = model.predict(featuresVal)\n",
        "print (\"Train Accuracy :\",metrics.accuracy_score(train_results, trainY))\n",
        "print (\"Test Accuracy :\",metrics.accuracy_score(results, testY))"
      ],
      "execution_count": 0,
      "outputs": [
        {
          "output_type": "stream",
          "text": [
            "Train Accuracy : 1.0\n",
            "Test Accuracy : 0.8470588235294118\n"
          ],
          "name": "stdout"
        },
        {
          "output_type": "stream",
          "text": [
            "/usr/local/lib/python3.6/dist-packages/sklearn/linear_model/_logistic.py:940: ConvergenceWarning: lbfgs failed to converge (status=1):\n",
            "STOP: TOTAL NO. of ITERATIONS REACHED LIMIT.\n",
            "\n",
            "Increase the number of iterations (max_iter) or scale the data as shown in:\n",
            "    https://scikit-learn.org/stable/modules/preprocessing.html\n",
            "Please also refer to the documentation for alternative solver options:\n",
            "    https://scikit-learn.org/stable/modules/linear_model.html#logistic-regression\n",
            "  extra_warning_msg=_LOGISTIC_SOLVER_CONVERGENCE_MSG)\n"
          ],
          "name": "stderr"
        }
      ]
    },
    {
      "cell_type": "code",
      "metadata": {
        "id": "9F51tnvJKHXC",
        "colab_type": "code",
        "outputId": "a0910521-03a1-438c-9b0c-8d49e70bd6fa",
        "colab": {
          "base_uri": "https://localhost:8080/",
          "height": 52
        }
      },
      "source": [
        "#Inception model + SVC Classifier\n",
        "model = svm.SVC()\n",
        "model.fit(featuresTrain, trainY)\n",
        "train_results = model.predict(featuresTrain)\n",
        "results = model.predict(featuresVal)\n",
        "print (\"Train Accuracy :\",metrics.accuracy_score(train_results, trainY))\n",
        "print (\"Test Accuracy :\",metrics.accuracy_score(results, testY))"
      ],
      "execution_count": 0,
      "outputs": [
        {
          "output_type": "stream",
          "text": [
            "Train Accuracy : 0.9568627450980393\n",
            "Test Accuracy : 0.8411764705882353\n"
          ],
          "name": "stdout"
        }
      ]
    },
    {
      "cell_type": "code",
      "metadata": {
        "id": "3btbOiOOKZrk",
        "colab_type": "code",
        "outputId": "57ca7b86-13cc-41e7-dd01-f476cfb2dfe1",
        "colab": {
          "base_uri": "https://localhost:8080/",
          "height": 86
        }
      },
      "source": [
        "#Xception model + RandomForest Classifier\n",
        "xceptionModel = tf.keras.applications.Xception(weights='imagenet', include_top=False, input_shape=inputShape)\n",
        "featuresTrain = xceptionModel.predict(trainX)\n",
        "featuresTrain = featuresTrain.reshape(featuresTrain.shape[0], -1)\n",
        "\n",
        "\n",
        "featuresVal = xceptionModel.predict(testX)\n",
        "featuresVal = featuresVal.reshape(featuresVal.shape[0], -1)\n",
        "\n",
        "model = RandomForestClassifier(200)\n",
        "model.fit(featuresTrain, trainY)\n",
        "train_results = model.predict(featuresTrain)\n",
        "results = model.predict(featuresVal)\n",
        "print (\"Train Accuracy :\",metrics.accuracy_score(train_results, trainY))\n",
        "print (\"Test Accuracy :\",metrics.accuracy_score(results, testY))"
      ],
      "execution_count": 0,
      "outputs": [
        {
          "output_type": "stream",
          "text": [
            "Downloading data from https://storage.googleapis.com/tensorflow/keras-applications/xception/xception_weights_tf_dim_ordering_tf_kernels_notop.h5\n",
            "83689472/83683744 [==============================] - 1s 0us/step\n",
            "Train Accuracy : 1.0\n",
            "Test Accuracy : 0.7735294117647059\n"
          ],
          "name": "stdout"
        }
      ]
    },
    {
      "cell_type": "code",
      "metadata": {
        "id": "VSE9e9PLevF9",
        "colab_type": "code",
        "outputId": "7d39ed65-4a07-4d62-e5da-10d064895d8d",
        "colab": {
          "base_uri": "https://localhost:8080/",
          "height": 191
        }
      },
      "source": [
        "#Xception model + Logistic Regression Classifier\n",
        "model = LogisticRegression()\n",
        "model.fit(featuresTrain, trainY)\n",
        "train_results = model.predict(featuresTrain)\n",
        "results = model.predict(featuresVal)\n",
        "print (\"Train Accuracy :\",metrics.accuracy_score(train_results, trainY))\n",
        "print (\"Test Accuracy :\",metrics.accuracy_score(results, testY))"
      ],
      "execution_count": 0,
      "outputs": [
        {
          "output_type": "stream",
          "text": [
            "/usr/local/lib/python3.6/dist-packages/sklearn/linear_model/_logistic.py:940: ConvergenceWarning: lbfgs failed to converge (status=1):\n",
            "STOP: TOTAL NO. of ITERATIONS REACHED LIMIT.\n",
            "\n",
            "Increase the number of iterations (max_iter) or scale the data as shown in:\n",
            "    https://scikit-learn.org/stable/modules/preprocessing.html\n",
            "Please also refer to the documentation for alternative solver options:\n",
            "    https://scikit-learn.org/stable/modules/linear_model.html#logistic-regression\n",
            "  extra_warning_msg=_LOGISTIC_SOLVER_CONVERGENCE_MSG)\n"
          ],
          "name": "stderr"
        },
        {
          "output_type": "stream",
          "text": [
            "Train Accuracy : 1.0\n",
            "Test Accuracy : 0.8176470588235294\n"
          ],
          "name": "stdout"
        }
      ]
    },
    {
      "cell_type": "code",
      "metadata": {
        "id": "PGeoflexfA8l",
        "colab_type": "code",
        "outputId": "b7436926-ea4a-4c2c-9927-edbfef8dd749",
        "colab": {
          "base_uri": "https://localhost:8080/",
          "height": 52
        }
      },
      "source": [
        "#Xception model + SVC Classifier\n",
        "model = svm.SVC()\n",
        "model.fit(featuresTrain, trainY)\n",
        "train_results = model.predict(featuresTrain)\n",
        "results = model.predict(featuresVal)\n",
        "print (\"Train Accuracy :\",metrics.accuracy_score(train_results, trainY))\n",
        "print (\"Test Accuracy :\",metrics.accuracy_score(results, testY))"
      ],
      "execution_count": 0,
      "outputs": [
        {
          "output_type": "stream",
          "text": [
            "Train Accuracy : 0.9117647058823529\n",
            "Test Accuracy : 0.7558823529411764\n"
          ],
          "name": "stdout"
        }
      ]
    },
    {
      "cell_type": "code",
      "metadata": {
        "id": "wn9W55vvfkma",
        "colab_type": "code",
        "colab": {}
      },
      "source": [
        "#fine tuning _data augmentation\n",
        "trainDataGenerator =tf.keras.preprocessing.image.ImageDataGenerator(\n",
        "shear_range=0.2,\n",
        "zoom_range=0.2,\n",
        "rotation_range=30,\n",
        "horizontal_flip=True,\n",
        "height_shift_range = 0.5,\n",
        "width_shift_range = 0.2)\n",
        "\n",
        "validationDataGenerator = tf.keras.preprocessing.image.ImageDataGenerator()\n",
        "\n",
        "train_generator = trainDataGenerator.flow(trainX,trainY, batch_size=16)\n",
        "validation_generator = validationDataGenerator.flow(testX, testY, batch_size = 16)\n"
      ],
      "execution_count": 0,
      "outputs": []
    },
    {
      "cell_type": "code",
      "metadata": {
        "id": "UustnT7OgiYv",
        "colab_type": "code",
        "outputId": "3f97d663-ac13-4c2f-c68b-114c87fd3f99",
        "colab": {
          "base_uri": "https://localhost:8080/",
          "height": 347
        }
      },
      "source": [
        "#VGG model\n",
        "vggModel = tf.keras.applications.VGG16(weights='imagenet', include_top=False, input_shape=inputShape)\n",
        "vggModel.trainable = False\n",
        "model = tf.keras.models.Sequential()\n",
        "model.add(vggModel)\n",
        "model.add(tf.keras.layers.Flatten())\n",
        "model.add(tf.keras.layers.Dropout(0.2))\n",
        "model.add(tf.keras.layers.Dense(256, activation='relu'))\n",
        "model.add(tf.keras.layers.Dense(classes, activation='softmax'))\n",
        "print (model.summary())"
      ],
      "execution_count": 0,
      "outputs": [
        {
          "output_type": "stream",
          "text": [
            "Model: \"sequential_17\"\n",
            "_________________________________________________________________\n",
            "Layer (type)                 Output Shape              Param #   \n",
            "=================================================================\n",
            "vgg16 (Model)                (None, 4, 4, 512)         14714688  \n",
            "_________________________________________________________________\n",
            "flatten_17 (Flatten)         (None, 8192)              0         \n",
            "_________________________________________________________________\n",
            "dropout_17 (Dropout)         (None, 8192)              0         \n",
            "_________________________________________________________________\n",
            "dense_36 (Dense)             (None, 256)               2097408   \n",
            "_________________________________________________________________\n",
            "dense_37 (Dense)             (None, 17)                4369      \n",
            "=================================================================\n",
            "Total params: 16,816,465\n",
            "Trainable params: 2,101,777\n",
            "Non-trainable params: 14,714,688\n",
            "_________________________________________________________________\n",
            "None\n"
          ],
          "name": "stdout"
        }
      ]
    },
    {
      "cell_type": "code",
      "metadata": {
        "id": "Cyaba2Oaho9i",
        "colab_type": "code",
        "outputId": "46310ee7-7c28-4581-cb09-71c7e3e21990",
        "colab": {
          "base_uri": "https://localhost:8080/",
          "height": 712
        }
      },
      "source": [
        "model.compile(loss='sparse_categorical_crossentropy',optimizer=tf.keras.optimizers.SGD(lr=0.001),metrics=['accuracy'])\n",
        "VGG_history =model.fit(trainX,trainY,epochs=20, batch_size=16,validation_data=(testX, testY))"
      ],
      "execution_count": 0,
      "outputs": [
        {
          "output_type": "stream",
          "text": [
            "Epoch 1/20\n",
            "64/64 [==============================] - 3s 41ms/step - loss: 2.8432 - accuracy: 0.1039 - val_loss: 2.5747 - val_accuracy: 0.2324\n",
            "Epoch 2/20\n",
            "64/64 [==============================] - 2s 38ms/step - loss: 2.5825 - accuracy: 0.2088 - val_loss: 2.3538 - val_accuracy: 0.3059\n",
            "Epoch 3/20\n",
            "64/64 [==============================] - 2s 38ms/step - loss: 2.3526 - accuracy: 0.2863 - val_loss: 2.1382 - val_accuracy: 0.4824\n",
            "Epoch 4/20\n",
            "64/64 [==============================] - 2s 38ms/step - loss: 2.1735 - accuracy: 0.3716 - val_loss: 1.9713 - val_accuracy: 0.5294\n",
            "Epoch 5/20\n",
            "64/64 [==============================] - 2s 38ms/step - loss: 1.9884 - accuracy: 0.4363 - val_loss: 1.8228 - val_accuracy: 0.5353\n",
            "Epoch 6/20\n",
            "64/64 [==============================] - 2s 38ms/step - loss: 1.8148 - accuracy: 0.5157 - val_loss: 1.6604 - val_accuracy: 0.6088\n",
            "Epoch 7/20\n",
            "64/64 [==============================] - 2s 38ms/step - loss: 1.6886 - accuracy: 0.5676 - val_loss: 1.5372 - val_accuracy: 0.6412\n",
            "Epoch 8/20\n",
            "64/64 [==============================] - 2s 38ms/step - loss: 1.5528 - accuracy: 0.6059 - val_loss: 1.4677 - val_accuracy: 0.6529\n",
            "Epoch 9/20\n",
            "64/64 [==============================] - 3s 46ms/step - loss: 1.4539 - accuracy: 0.6520 - val_loss: 1.3527 - val_accuracy: 0.6765\n",
            "Epoch 10/20\n",
            "64/64 [==============================] - 2s 38ms/step - loss: 1.3757 - accuracy: 0.6745 - val_loss: 1.2946 - val_accuracy: 0.7059\n",
            "Epoch 11/20\n",
            "64/64 [==============================] - 2s 38ms/step - loss: 1.2936 - accuracy: 0.6784 - val_loss: 1.1952 - val_accuracy: 0.7441\n",
            "Epoch 12/20\n",
            "64/64 [==============================] - 2s 38ms/step - loss: 1.2171 - accuracy: 0.7275 - val_loss: 1.1719 - val_accuracy: 0.7147\n",
            "Epoch 13/20\n",
            "64/64 [==============================] - 2s 38ms/step - loss: 1.1600 - accuracy: 0.7127 - val_loss: 1.0969 - val_accuracy: 0.7588\n",
            "Epoch 14/20\n",
            "64/64 [==============================] - 2s 38ms/step - loss: 1.0810 - accuracy: 0.7578 - val_loss: 1.0491 - val_accuracy: 0.7588\n",
            "Epoch 15/20\n",
            "64/64 [==============================] - 2s 39ms/step - loss: 1.0455 - accuracy: 0.7627 - val_loss: 1.0261 - val_accuracy: 0.7647\n",
            "Epoch 16/20\n",
            "64/64 [==============================] - 2s 38ms/step - loss: 0.9863 - accuracy: 0.7784 - val_loss: 0.9950 - val_accuracy: 0.7735\n",
            "Epoch 17/20\n",
            "64/64 [==============================] - 2s 39ms/step - loss: 0.9418 - accuracy: 0.8020 - val_loss: 0.9513 - val_accuracy: 0.7941\n",
            "Epoch 18/20\n",
            "64/64 [==============================] - 2s 39ms/step - loss: 0.9004 - accuracy: 0.8020 - val_loss: 0.9291 - val_accuracy: 0.7971\n",
            "Epoch 19/20\n",
            "64/64 [==============================] - 2s 38ms/step - loss: 0.8589 - accuracy: 0.8127 - val_loss: 0.8879 - val_accuracy: 0.7971\n",
            "Epoch 20/20\n",
            "64/64 [==============================] - 2s 38ms/step - loss: 0.8455 - accuracy: 0.8167 - val_loss: 0.8641 - val_accuracy: 0.8118\n"
          ],
          "name": "stdout"
        }
      ]
    },
    {
      "cell_type": "code",
      "metadata": {
        "id": "YaH_tEi3id_p",
        "colab_type": "code",
        "outputId": "a10b7ef2-72b5-4a33-bfab-9920e3eb719f",
        "colab": {
          "base_uri": "https://localhost:8080/",
          "height": 712
        }
      },
      "source": [
        "vggModel.trainable = True\n",
        "trainableFlag = False\n",
        "for layer in vggModel.layers:\n",
        "  if layer.name == 'block4_conv1':\n",
        "    trainableFlag = True\n",
        "  layer.trainable = trainableFlag\n",
        "model.compile(loss='sparse_categorical_crossentropy',optimizer=tf.keras.optimizers.SGD(lr=0.00001),metrics=['accuracy'])\n",
        "VGG_history =model.fit(trainX,trainY,epochs=20, batch_size=16,validation_data=(testX, testY))"
      ],
      "execution_count": 0,
      "outputs": [
        {
          "output_type": "stream",
          "text": [
            "Epoch 1/20\n",
            "64/64 [==============================] - 4s 59ms/step - loss: 0.7988 - accuracy: 0.8284 - val_loss: 0.8387 - val_accuracy: 0.8147\n",
            "Epoch 2/20\n",
            "64/64 [==============================] - 4s 56ms/step - loss: 0.7668 - accuracy: 0.8304 - val_loss: 0.8181 - val_accuracy: 0.8118\n",
            "Epoch 3/20\n",
            "64/64 [==============================] - 4s 56ms/step - loss: 0.7372 - accuracy: 0.8471 - val_loss: 0.8007 - val_accuracy: 0.8088\n",
            "Epoch 4/20\n",
            "64/64 [==============================] - 4s 56ms/step - loss: 0.7403 - accuracy: 0.8431 - val_loss: 0.7855 - val_accuracy: 0.8176\n",
            "Epoch 5/20\n",
            "64/64 [==============================] - 4s 56ms/step - loss: 0.7048 - accuracy: 0.8382 - val_loss: 0.7720 - val_accuracy: 0.8176\n",
            "Epoch 6/20\n",
            "64/64 [==============================] - 4s 56ms/step - loss: 0.6925 - accuracy: 0.8461 - val_loss: 0.7601 - val_accuracy: 0.8235\n",
            "Epoch 7/20\n",
            "64/64 [==============================] - 4s 57ms/step - loss: 0.6918 - accuracy: 0.8373 - val_loss: 0.7494 - val_accuracy: 0.8265\n",
            "Epoch 8/20\n",
            "64/64 [==============================] - 4s 57ms/step - loss: 0.6771 - accuracy: 0.8441 - val_loss: 0.7395 - val_accuracy: 0.8235\n",
            "Epoch 9/20\n",
            "64/64 [==============================] - 4s 57ms/step - loss: 0.6624 - accuracy: 0.8510 - val_loss: 0.7299 - val_accuracy: 0.8235\n",
            "Epoch 10/20\n",
            "64/64 [==============================] - 4s 57ms/step - loss: 0.6595 - accuracy: 0.8578 - val_loss: 0.7207 - val_accuracy: 0.8235\n",
            "Epoch 11/20\n",
            "64/64 [==============================] - 4s 56ms/step - loss: 0.6379 - accuracy: 0.8569 - val_loss: 0.7119 - val_accuracy: 0.8176\n",
            "Epoch 12/20\n",
            "64/64 [==============================] - 4s 57ms/step - loss: 0.6387 - accuracy: 0.8510 - val_loss: 0.7038 - val_accuracy: 0.8176\n",
            "Epoch 13/20\n",
            "64/64 [==============================] - 4s 57ms/step - loss: 0.6225 - accuracy: 0.8716 - val_loss: 0.6964 - val_accuracy: 0.8176\n",
            "Epoch 14/20\n",
            "64/64 [==============================] - 4s 57ms/step - loss: 0.6208 - accuracy: 0.8520 - val_loss: 0.6892 - val_accuracy: 0.8176\n",
            "Epoch 15/20\n",
            "64/64 [==============================] - 4s 57ms/step - loss: 0.6188 - accuracy: 0.8549 - val_loss: 0.6818 - val_accuracy: 0.8176\n",
            "Epoch 16/20\n",
            "64/64 [==============================] - 4s 57ms/step - loss: 0.6103 - accuracy: 0.8578 - val_loss: 0.6751 - val_accuracy: 0.8176\n",
            "Epoch 17/20\n",
            "64/64 [==============================] - 4s 57ms/step - loss: 0.6046 - accuracy: 0.8539 - val_loss: 0.6685 - val_accuracy: 0.8206\n",
            "Epoch 18/20\n",
            "64/64 [==============================] - 4s 57ms/step - loss: 0.5809 - accuracy: 0.8647 - val_loss: 0.6624 - val_accuracy: 0.8206\n",
            "Epoch 19/20\n",
            "64/64 [==============================] - 4s 57ms/step - loss: 0.5710 - accuracy: 0.8598 - val_loss: 0.6567 - val_accuracy: 0.8206\n",
            "Epoch 20/20\n",
            "64/64 [==============================] - 4s 57ms/step - loss: 0.5930 - accuracy: 0.8500 - val_loss: 0.6511 - val_accuracy: 0.8206\n"
          ],
          "name": "stdout"
        }
      ]
    },
    {
      "cell_type": "code",
      "metadata": {
        "id": "Bd5Y4HGSloYS",
        "colab_type": "code",
        "outputId": "83c1d706-a6ec-44d9-9bd8-07110308c070",
        "colab": {
          "base_uri": "https://localhost:8080/",
          "height": 34
        }
      },
      "source": [
        "Vggmodel_accuracy = model.evaluate(testX,testY)"
      ],
      "execution_count": 0,
      "outputs": [
        {
          "output_type": "stream",
          "text": [
            "11/11 [==============================] - 1s 49ms/step - loss: 0.6511 - accuracy: 0.8206\n"
          ],
          "name": "stdout"
        }
      ]
    },
    {
      "cell_type": "code",
      "metadata": {
        "id": "gbQESGKY2Paj",
        "colab_type": "code",
        "outputId": "a5937990-382f-4a9a-c91c-2d50b0aa8bcc",
        "colab": {
          "base_uri": "https://localhost:8080/",
          "height": 347
        }
      },
      "source": [
        "#Inception model\n",
        "inceptionModel = tf.keras.applications.InceptionV3(weights='imagenet', include_top=False, input_shape=inputShape)\n",
        "inceptionModel.trainable = False\n",
        "model = tf.keras.models.Sequential()\n",
        "model.add(inceptionModel)\n",
        "model.add(tf.keras.layers.Flatten())\n",
        "model.add(tf.keras.layers.Dropout(0.3))\n",
        "model.add(tf.keras.layers.Dense(512, activation='relu'))\n",
        "model.add(tf.keras.layers.Dense(classes, activation='softmax'))\n",
        "print (model.summary())"
      ],
      "execution_count": 0,
      "outputs": [
        {
          "output_type": "stream",
          "text": [
            "Model: \"sequential\"\n",
            "_________________________________________________________________\n",
            "Layer (type)                 Output Shape              Param #   \n",
            "=================================================================\n",
            "inception_v3 (Model)         (None, 2, 2, 2048)        21802784  \n",
            "_________________________________________________________________\n",
            "flatten (Flatten)            (None, 8192)              0         \n",
            "_________________________________________________________________\n",
            "dropout (Dropout)            (None, 8192)              0         \n",
            "_________________________________________________________________\n",
            "dense (Dense)                (None, 512)               4194816   \n",
            "_________________________________________________________________\n",
            "dense_1 (Dense)              (None, 17)                8721      \n",
            "=================================================================\n",
            "Total params: 26,006,321\n",
            "Trainable params: 4,203,537\n",
            "Non-trainable params: 21,802,784\n",
            "_________________________________________________________________\n",
            "None\n"
          ],
          "name": "stdout"
        }
      ]
    },
    {
      "cell_type": "code",
      "metadata": {
        "id": "18CEXVkU2i9m",
        "colab_type": "code",
        "outputId": "e67e6624-68db-403d-9ca5-abb0063fda06",
        "colab": {
          "base_uri": "https://localhost:8080/",
          "height": 712
        }
      },
      "source": [
        "model.compile(loss='sparse_categorical_crossentropy',optimizer=tf.keras.optimizers.SGD(lr=0.001),metrics=['accuracy'])\n",
        "Inception_history =model.fit(trainX,trainY,epochs=20, batch_size=16,validation_data=(testX, testY))"
      ],
      "execution_count": 0,
      "outputs": [
        {
          "output_type": "stream",
          "text": [
            "Epoch 1/20\n",
            "64/64 [==============================] - 7s 104ms/step - loss: 2.8201 - accuracy: 0.2559 - val_loss: 1.4446 - val_accuracy: 0.5618\n",
            "Epoch 2/20\n",
            "64/64 [==============================] - 4s 60ms/step - loss: 1.5009 - accuracy: 0.5294 - val_loss: 1.1319 - val_accuracy: 0.6588\n",
            "Epoch 3/20\n",
            "64/64 [==============================] - 4s 60ms/step - loss: 1.1632 - accuracy: 0.6382 - val_loss: 0.9059 - val_accuracy: 0.7529\n",
            "Epoch 4/20\n",
            "64/64 [==============================] - 4s 60ms/step - loss: 0.8766 - accuracy: 0.7275 - val_loss: 0.8503 - val_accuracy: 0.7412\n",
            "Epoch 5/20\n",
            "64/64 [==============================] - 4s 60ms/step - loss: 0.7582 - accuracy: 0.7578 - val_loss: 0.8059 - val_accuracy: 0.7794\n",
            "Epoch 6/20\n",
            "64/64 [==============================] - 4s 60ms/step - loss: 0.6205 - accuracy: 0.7980 - val_loss: 0.7560 - val_accuracy: 0.8000\n",
            "Epoch 7/20\n",
            "64/64 [==============================] - 4s 60ms/step - loss: 0.5541 - accuracy: 0.8216 - val_loss: 0.7575 - val_accuracy: 0.7824\n",
            "Epoch 8/20\n",
            "64/64 [==============================] - 4s 60ms/step - loss: 0.4658 - accuracy: 0.8529 - val_loss: 0.6942 - val_accuracy: 0.8059\n",
            "Epoch 9/20\n",
            "64/64 [==============================] - 4s 61ms/step - loss: 0.4219 - accuracy: 0.8765 - val_loss: 0.6921 - val_accuracy: 0.8324\n",
            "Epoch 10/20\n",
            "64/64 [==============================] - 4s 60ms/step - loss: 0.3898 - accuracy: 0.8814 - val_loss: 0.6607 - val_accuracy: 0.8294\n",
            "Epoch 11/20\n",
            "64/64 [==============================] - 4s 60ms/step - loss: 0.3153 - accuracy: 0.8990 - val_loss: 0.6947 - val_accuracy: 0.8088\n",
            "Epoch 12/20\n",
            "64/64 [==============================] - 4s 60ms/step - loss: 0.2885 - accuracy: 0.9157 - val_loss: 0.6750 - val_accuracy: 0.8059\n",
            "Epoch 13/20\n",
            "64/64 [==============================] - 4s 60ms/step - loss: 0.2569 - accuracy: 0.9275 - val_loss: 0.6595 - val_accuracy: 0.8294\n",
            "Epoch 14/20\n",
            "64/64 [==============================] - 4s 60ms/step - loss: 0.2161 - accuracy: 0.9422 - val_loss: 0.6373 - val_accuracy: 0.8324\n",
            "Epoch 15/20\n",
            "64/64 [==============================] - 4s 60ms/step - loss: 0.2230 - accuracy: 0.9412 - val_loss: 0.6443 - val_accuracy: 0.8176\n",
            "Epoch 16/20\n",
            "64/64 [==============================] - 4s 60ms/step - loss: 0.1989 - accuracy: 0.9441 - val_loss: 0.6622 - val_accuracy: 0.8088\n",
            "Epoch 17/20\n",
            "64/64 [==============================] - 4s 60ms/step - loss: 0.1921 - accuracy: 0.9490 - val_loss: 0.6580 - val_accuracy: 0.8147\n",
            "Epoch 18/20\n",
            "64/64 [==============================] - 4s 60ms/step - loss: 0.1487 - accuracy: 0.9725 - val_loss: 0.6468 - val_accuracy: 0.8176\n",
            "Epoch 19/20\n",
            "64/64 [==============================] - 4s 60ms/step - loss: 0.1690 - accuracy: 0.9529 - val_loss: 0.6357 - val_accuracy: 0.8235\n",
            "Epoch 20/20\n",
            "64/64 [==============================] - 4s 60ms/step - loss: 0.1674 - accuracy: 0.9559 - val_loss: 0.6552 - val_accuracy: 0.8235\n"
          ],
          "name": "stdout"
        }
      ]
    },
    {
      "cell_type": "code",
      "metadata": {
        "id": "Zq23FxDP2rfY",
        "colab_type": "code",
        "outputId": "4b76c3a1-6915-4c9a-eed2-b2ce71060eab",
        "colab": {
          "base_uri": "https://localhost:8080/",
          "height": 712
        }
      },
      "source": [
        "inceptionModel.trainable = True\n",
        "trainableFlag = False\n",
        "for layer in inceptionModel.layers:\n",
        "  if layer.name == 'conv2d_50':\n",
        "    trainableFlag = True\n",
        "  layer.trainable = trainableFlag\n",
        "model.compile(loss='sparse_categorical_crossentropy',optimizer=tf.keras.optimizers.RMSprop(lr=0.00001),metrics=['accuracy'])\n",
        "Inception_history =model.fit(trainX,trainY,epochs=20, batch_size=16,validation_data=(testX, testY))"
      ],
      "execution_count": 0,
      "outputs": [
        {
          "output_type": "stream",
          "text": [
            "Epoch 1/20\n",
            "64/64 [==============================] - 6s 88ms/step - loss: 0.1344 - accuracy: 0.9745 - val_loss: 0.6277 - val_accuracy: 0.8294\n",
            "Epoch 2/20\n",
            "64/64 [==============================] - 4s 62ms/step - loss: 0.1153 - accuracy: 0.9755 - val_loss: 0.6192 - val_accuracy: 0.8294\n",
            "Epoch 3/20\n",
            "64/64 [==============================] - 4s 62ms/step - loss: 0.1077 - accuracy: 0.9794 - val_loss: 0.6258 - val_accuracy: 0.8412\n",
            "Epoch 4/20\n",
            "64/64 [==============================] - 4s 62ms/step - loss: 0.1120 - accuracy: 0.9725 - val_loss: 0.6071 - val_accuracy: 0.8324\n",
            "Epoch 5/20\n",
            "64/64 [==============================] - 4s 63ms/step - loss: 0.0971 - accuracy: 0.9775 - val_loss: 0.5955 - val_accuracy: 0.8441\n",
            "Epoch 6/20\n",
            "64/64 [==============================] - 4s 63ms/step - loss: 0.0828 - accuracy: 0.9804 - val_loss: 0.5987 - val_accuracy: 0.8353\n",
            "Epoch 7/20\n",
            "64/64 [==============================] - 4s 62ms/step - loss: 0.0701 - accuracy: 0.9873 - val_loss: 0.6275 - val_accuracy: 0.8353\n",
            "Epoch 8/20\n",
            "64/64 [==============================] - 4s 62ms/step - loss: 0.0546 - accuracy: 0.9922 - val_loss: 0.6214 - val_accuracy: 0.8471\n",
            "Epoch 9/20\n",
            "64/64 [==============================] - 4s 62ms/step - loss: 0.0631 - accuracy: 0.9902 - val_loss: 0.6025 - val_accuracy: 0.8500\n",
            "Epoch 10/20\n",
            "64/64 [==============================] - 4s 62ms/step - loss: 0.0532 - accuracy: 0.9922 - val_loss: 0.6006 - val_accuracy: 0.8382\n",
            "Epoch 11/20\n",
            "64/64 [==============================] - 4s 63ms/step - loss: 0.0490 - accuracy: 0.9931 - val_loss: 0.5891 - val_accuracy: 0.8471\n",
            "Epoch 12/20\n",
            "64/64 [==============================] - 4s 63ms/step - loss: 0.0503 - accuracy: 0.9892 - val_loss: 0.5874 - val_accuracy: 0.8500\n",
            "Epoch 13/20\n",
            "64/64 [==============================] - 4s 63ms/step - loss: 0.0440 - accuracy: 0.9931 - val_loss: 0.5900 - val_accuracy: 0.8471\n",
            "Epoch 14/20\n",
            "64/64 [==============================] - 4s 63ms/step - loss: 0.0354 - accuracy: 0.9941 - val_loss: 0.5921 - val_accuracy: 0.8500\n",
            "Epoch 15/20\n",
            "64/64 [==============================] - 4s 62ms/step - loss: 0.0366 - accuracy: 0.9941 - val_loss: 0.6123 - val_accuracy: 0.8529\n",
            "Epoch 16/20\n",
            "64/64 [==============================] - 4s 62ms/step - loss: 0.0271 - accuracy: 0.9971 - val_loss: 0.6216 - val_accuracy: 0.8412\n",
            "Epoch 17/20\n",
            "64/64 [==============================] - 4s 62ms/step - loss: 0.0304 - accuracy: 0.9971 - val_loss: 0.6303 - val_accuracy: 0.8471\n",
            "Epoch 18/20\n",
            "64/64 [==============================] - 4s 62ms/step - loss: 0.0250 - accuracy: 0.9971 - val_loss: 0.6122 - val_accuracy: 0.8500\n",
            "Epoch 19/20\n",
            "64/64 [==============================] - 4s 62ms/step - loss: 0.0280 - accuracy: 0.9971 - val_loss: 0.6171 - val_accuracy: 0.8559\n",
            "Epoch 20/20\n",
            "64/64 [==============================] - 4s 62ms/step - loss: 0.0237 - accuracy: 0.9961 - val_loss: 0.6427 - val_accuracy: 0.8529\n"
          ],
          "name": "stdout"
        }
      ]
    },
    {
      "cell_type": "code",
      "metadata": {
        "id": "l5fd8oBcou7C",
        "colab_type": "code",
        "outputId": "e81afbc4-2b3b-4e53-d222-904c82577eb1",
        "colab": {
          "base_uri": "https://localhost:8080/",
          "height": 34
        }
      },
      "source": [
        "Inceptionmodel_accuracy = model.evaluate(testX,testY)"
      ],
      "execution_count": 0,
      "outputs": [
        {
          "output_type": "stream",
          "text": [
            "11/11 [==============================] - 1s 67ms/step - loss: 0.6427 - accuracy: 0.8529\n"
          ],
          "name": "stdout"
        }
      ]
    },
    {
      "cell_type": "code",
      "metadata": {
        "id": "2raGnATco2_M",
        "colab_type": "code",
        "outputId": "04c69c4f-fbc4-4183-8ae0-722e0466876a",
        "colab": {
          "base_uri": "https://localhost:8080/",
          "height": 347
        }
      },
      "source": [
        "#Xception model\n",
        "xceptionModel = tf.keras.applications.Xception(weights='imagenet', include_top=False, input_shape=inputShape)\n",
        "xceptionModel.trainable = False\n",
        "model = tf.keras.models.Sequential()\n",
        "model.add(xceptionModel)\n",
        "model.add(tf.keras.layers.Flatten())\n",
        "model.add(tf.keras.layers.Dense(512, activation='relu'))\n",
        "model.add(tf.keras.layers.Dense(512, activation='relu'))\n",
        "model.add(tf.keras.layers.Dense(classes, activation='softmax'))\n",
        "print (model.summary())"
      ],
      "execution_count": 0,
      "outputs": [
        {
          "output_type": "stream",
          "text": [
            "Model: \"sequential_1\"\n",
            "_________________________________________________________________\n",
            "Layer (type)                 Output Shape              Param #   \n",
            "=================================================================\n",
            "xception (Model)             (None, 4, 4, 2048)        20861480  \n",
            "_________________________________________________________________\n",
            "flatten_1 (Flatten)          (None, 32768)             0         \n",
            "_________________________________________________________________\n",
            "dense_2 (Dense)              (None, 512)               16777728  \n",
            "_________________________________________________________________\n",
            "dense_3 (Dense)              (None, 512)               262656    \n",
            "_________________________________________________________________\n",
            "dense_4 (Dense)              (None, 17)                8721      \n",
            "=================================================================\n",
            "Total params: 37,910,585\n",
            "Trainable params: 17,049,105\n",
            "Non-trainable params: 20,861,480\n",
            "_________________________________________________________________\n",
            "None\n"
          ],
          "name": "stdout"
        }
      ]
    },
    {
      "cell_type": "code",
      "metadata": {
        "id": "dqMO0yhWpFjP",
        "colab_type": "code",
        "outputId": "617a7bf4-f244-4d05-f3dd-556e5ef858eb",
        "colab": {
          "base_uri": "https://localhost:8080/",
          "height": 712
        }
      },
      "source": [
        "model.compile(loss='sparse_categorical_crossentropy',optimizer=tf.keras.optimizers.SGD(lr=0.001),metrics=['accuracy'])\n",
        "Xception_history =model.fit(trainX,trainY,epochs=20, batch_size=16,validation_data=(testX, testY))"
      ],
      "execution_count": 0,
      "outputs": [
        {
          "output_type": "stream",
          "text": [
            "Epoch 1/20\n",
            "64/64 [==============================] - 3s 54ms/step - loss: 2.4006 - accuracy: 0.3098 - val_loss: 1.9129 - val_accuracy: 0.5235\n",
            "Epoch 2/20\n",
            "64/64 [==============================] - 3s 44ms/step - loss: 1.7301 - accuracy: 0.6157 - val_loss: 1.4865 - val_accuracy: 0.6559\n",
            "Epoch 3/20\n",
            "64/64 [==============================] - 3s 44ms/step - loss: 1.3641 - accuracy: 0.7294 - val_loss: 1.2430 - val_accuracy: 0.7147\n",
            "Epoch 4/20\n",
            "64/64 [==============================] - 3s 44ms/step - loss: 1.1269 - accuracy: 0.7833 - val_loss: 1.0974 - val_accuracy: 0.7471\n",
            "Epoch 5/20\n",
            "64/64 [==============================] - 3s 44ms/step - loss: 0.9603 - accuracy: 0.8118 - val_loss: 0.9798 - val_accuracy: 0.7647\n",
            "Epoch 6/20\n",
            "64/64 [==============================] - 3s 44ms/step - loss: 0.8418 - accuracy: 0.8431 - val_loss: 0.9090 - val_accuracy: 0.7853\n",
            "Epoch 7/20\n",
            "64/64 [==============================] - 3s 44ms/step - loss: 0.7524 - accuracy: 0.8657 - val_loss: 0.8518 - val_accuracy: 0.7735\n",
            "Epoch 8/20\n",
            "64/64 [==============================] - 3s 44ms/step - loss: 0.6779 - accuracy: 0.8833 - val_loss: 0.8044 - val_accuracy: 0.7735\n",
            "Epoch 9/20\n",
            "64/64 [==============================] - 3s 44ms/step - loss: 0.6171 - accuracy: 0.8941 - val_loss: 0.7677 - val_accuracy: 0.7882\n",
            "Epoch 10/20\n",
            "64/64 [==============================] - 3s 44ms/step - loss: 0.5674 - accuracy: 0.9059 - val_loss: 0.7461 - val_accuracy: 0.7824\n",
            "Epoch 11/20\n",
            "64/64 [==============================] - 3s 44ms/step - loss: 0.5257 - accuracy: 0.9137 - val_loss: 0.7219 - val_accuracy: 0.7882\n",
            "Epoch 12/20\n",
            "64/64 [==============================] - 3s 44ms/step - loss: 0.4871 - accuracy: 0.9235 - val_loss: 0.7115 - val_accuracy: 0.7912\n",
            "Epoch 13/20\n",
            "64/64 [==============================] - 3s 44ms/step - loss: 0.4568 - accuracy: 0.9235 - val_loss: 0.6858 - val_accuracy: 0.7882\n",
            "Epoch 14/20\n",
            "64/64 [==============================] - 3s 44ms/step - loss: 0.4282 - accuracy: 0.9304 - val_loss: 0.6668 - val_accuracy: 0.8118\n",
            "Epoch 15/20\n",
            "64/64 [==============================] - 3s 44ms/step - loss: 0.4027 - accuracy: 0.9373 - val_loss: 0.6610 - val_accuracy: 0.8000\n",
            "Epoch 16/20\n",
            "64/64 [==============================] - 3s 44ms/step - loss: 0.3815 - accuracy: 0.9392 - val_loss: 0.6495 - val_accuracy: 0.8000\n",
            "Epoch 17/20\n",
            "64/64 [==============================] - 3s 44ms/step - loss: 0.3618 - accuracy: 0.9461 - val_loss: 0.6348 - val_accuracy: 0.8059\n",
            "Epoch 18/20\n",
            "64/64 [==============================] - 3s 44ms/step - loss: 0.3427 - accuracy: 0.9520 - val_loss: 0.6231 - val_accuracy: 0.8118\n",
            "Epoch 19/20\n",
            "64/64 [==============================] - 3s 44ms/step - loss: 0.3268 - accuracy: 0.9500 - val_loss: 0.6190 - val_accuracy: 0.8029\n",
            "Epoch 20/20\n",
            "64/64 [==============================] - 3s 44ms/step - loss: 0.3117 - accuracy: 0.9549 - val_loss: 0.6172 - val_accuracy: 0.8059\n"
          ],
          "name": "stdout"
        }
      ]
    },
    {
      "cell_type": "code",
      "metadata": {
        "id": "bebPhasDpoDi",
        "colab_type": "code",
        "outputId": "895892d0-9c33-48c5-a723-22c7a0d75b2a",
        "colab": {
          "base_uri": "https://localhost:8080/",
          "height": 712
        }
      },
      "source": [
        "xceptionModel.trainable = True\n",
        "trainableFlag = False\n",
        "for layer in xceptionModel.layers:\n",
        "  if layer.name == 'block10_sepconv1':\n",
        "    trainableFlag = True\n",
        "  layer.trainable = trainableFlag\n",
        "model.compile(loss='sparse_categorical_crossentropy',optimizer=tf.keras.optimizers.SGD(lr=0.00001),metrics=['accuracy'])\n",
        "Xception_history =model.fit(trainX,trainY,epochs=20, batch_size=16,validation_data=(testX, testY))"
      ],
      "execution_count": 0,
      "outputs": [
        {
          "output_type": "stream",
          "text": [
            "Epoch 1/20\n",
            "64/64 [==============================] - 8s 130ms/step - loss: 2.8846 - accuracy: 0.0578 - val_loss: 2.8808 - val_accuracy: 0.0500\n",
            "Epoch 2/20\n",
            "64/64 [==============================] - 7s 115ms/step - loss: 2.8764 - accuracy: 0.0588 - val_loss: 2.8779 - val_accuracy: 0.0471\n",
            "Epoch 3/20\n",
            "64/64 [==============================] - 7s 116ms/step - loss: 2.8753 - accuracy: 0.0618 - val_loss: 2.8753 - val_accuracy: 0.0500\n",
            "Epoch 4/20\n",
            "64/64 [==============================] - 7s 116ms/step - loss: 2.8695 - accuracy: 0.0569 - val_loss: 2.8730 - val_accuracy: 0.0500\n",
            "Epoch 5/20\n",
            "64/64 [==============================] - 7s 116ms/step - loss: 2.8752 - accuracy: 0.0686 - val_loss: 2.8707 - val_accuracy: 0.0529\n",
            "Epoch 6/20\n",
            "64/64 [==============================] - 7s 116ms/step - loss: 2.8701 - accuracy: 0.0686 - val_loss: 2.8690 - val_accuracy: 0.0529\n",
            "Epoch 7/20\n",
            "64/64 [==============================] - 7s 116ms/step - loss: 2.8633 - accuracy: 0.0657 - val_loss: 2.8661 - val_accuracy: 0.0529\n",
            "Epoch 8/20\n",
            "64/64 [==============================] - 7s 116ms/step - loss: 2.8646 - accuracy: 0.0647 - val_loss: 2.8640 - val_accuracy: 0.0529\n",
            "Epoch 9/20\n",
            "64/64 [==============================] - 7s 116ms/step - loss: 2.8576 - accuracy: 0.0676 - val_loss: 2.8616 - val_accuracy: 0.0559\n",
            "Epoch 10/20\n",
            "64/64 [==============================] - 7s 116ms/step - loss: 2.8597 - accuracy: 0.0647 - val_loss: 2.8597 - val_accuracy: 0.0559\n",
            "Epoch 11/20\n",
            "64/64 [==============================] - 7s 116ms/step - loss: 2.8563 - accuracy: 0.0706 - val_loss: 2.8577 - val_accuracy: 0.0588\n",
            "Epoch 12/20\n",
            "64/64 [==============================] - 7s 116ms/step - loss: 2.8570 - accuracy: 0.0696 - val_loss: 2.8557 - val_accuracy: 0.0559\n",
            "Epoch 13/20\n",
            "64/64 [==============================] - 7s 116ms/step - loss: 2.8536 - accuracy: 0.0696 - val_loss: 2.8531 - val_accuracy: 0.0559\n",
            "Epoch 14/20\n",
            "64/64 [==============================] - 7s 116ms/step - loss: 2.8489 - accuracy: 0.0686 - val_loss: 2.8515 - val_accuracy: 0.0559\n",
            "Epoch 15/20\n",
            "64/64 [==============================] - 7s 116ms/step - loss: 2.8497 - accuracy: 0.0833 - val_loss: 2.8495 - val_accuracy: 0.0588\n",
            "Epoch 16/20\n",
            "64/64 [==============================] - 7s 117ms/step - loss: 2.8493 - accuracy: 0.0647 - val_loss: 2.8476 - val_accuracy: 0.0588\n",
            "Epoch 17/20\n",
            "64/64 [==============================] - 7s 116ms/step - loss: 2.8466 - accuracy: 0.0637 - val_loss: 2.8451 - val_accuracy: 0.0588\n",
            "Epoch 18/20\n",
            "64/64 [==============================] - 7s 116ms/step - loss: 2.8371 - accuracy: 0.0627 - val_loss: 2.8434 - val_accuracy: 0.0618\n",
            "Epoch 19/20\n",
            "64/64 [==============================] - 7s 116ms/step - loss: 2.8351 - accuracy: 0.0716 - val_loss: 2.8417 - val_accuracy: 0.0618\n",
            "Epoch 20/20\n",
            "64/64 [==============================] - 7s 116ms/step - loss: 2.8402 - accuracy: 0.0775 - val_loss: 2.8398 - val_accuracy: 0.0647\n"
          ],
          "name": "stdout"
        }
      ]
    },
    {
      "cell_type": "code",
      "metadata": {
        "id": "P5nNFhkS3Dc8",
        "colab_type": "code",
        "outputId": "c52e87b7-0b55-4aa6-fcd5-d7d52876b4da",
        "colab": {
          "base_uri": "https://localhost:8080/",
          "height": 34
        }
      },
      "source": [
        "Xceptionmodel_accuracy = model.evaluate(testX,testY)"
      ],
      "execution_count": 0,
      "outputs": [
        {
          "output_type": "stream",
          "text": [
            "11/11 [==============================] - 1s 104ms/step - loss: 2.8844 - accuracy: 0.0471\n"
          ],
          "name": "stdout"
        }
      ]
    }
  ]
}